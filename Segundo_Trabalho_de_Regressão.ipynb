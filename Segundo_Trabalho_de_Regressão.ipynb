{
  "nbformat": 4,
  "nbformat_minor": 0,
  "metadata": {
    "colab": {
      "name": "Segundo Trabalho de Regressão.ipynb",
      "provenance": [],
      "toc_visible": true
    },
    "kernelspec": {
      "name": "python3",
      "display_name": "Python 3"
    },
    "language_info": {
      "name": "python"
    }
  },
  "cells": [
    {
      "cell_type": "markdown",
      "source": [
        "O objetivo desta análise é prever a quantidade de consumo de cerveja em litros em São Paulo.\n",
        "\n"
      ],
      "metadata": {
        "id": "A-bvUMmbnbHn"
      }
    },
    {
      "cell_type": "markdown",
      "source": [
        "# Primeiros passos:"
      ],
      "metadata": {
        "id": "18rffbOxrqVA"
      }
    },
    {
      "cell_type": "code",
      "source": [
        "#Importando as bibliotecas necessárias\n",
        "\n",
        "import pandas as pd \n",
        "import matplotlib.pyplot as plt\n",
        "%matplotlib inline\n",
        "import seaborn as sns\n",
        "import numpy as np\n",
        "from sklearn.model_selection import train_test_split\n",
        "from sklearn.linear_model import LinearRegression\n",
        "from sklearn.metrics import mean_squared_error"
      ],
      "metadata": {
        "id": "rm3ULdxmn680"
      },
      "execution_count": 1,
      "outputs": []
    },
    {
      "cell_type": "code",
      "source": [
        "#Conjunto de dados\n",
        "\n",
        "df = pd.read_csv('Consumo_cerveja.csv')"
      ],
      "metadata": {
        "id": "GNxIB6zBot5k"
      },
      "execution_count": 4,
      "outputs": []
    },
    {
      "cell_type": "code",
      "source": [
        "#Verificando o tamanho do conjunto de dados\n",
        "\n",
        "df.shape"
      ],
      "metadata": {
        "colab": {
          "base_uri": "https://localhost:8080/",
          "height": 0
        },
        "id": "texevQepqp4k",
        "outputId": "b738ab50-0508-46bb-9bc2-2d83d408599c"
      },
      "execution_count": 6,
      "outputs": [
        {
          "output_type": "execute_result",
          "data": {
            "text/plain": [
              "(941, 7)"
            ]
          },
          "metadata": {},
          "execution_count": 6
        }
      ]
    },
    {
      "cell_type": "markdown",
      "source": [
        "O conjunto de dados possui 941 linhas e 7 colunas."
      ],
      "metadata": {
        "id": "VZOWqTf3q6BC"
      }
    },
    {
      "cell_type": "markdown",
      "source": [
        "## Remoção da Variável Data:\n"
      ],
      "metadata": {
        "id": "tTw0w0chrSrC"
      }
    },
    {
      "cell_type": "markdown",
      "source": [
        "Neste trabalho, a variável Data não será utilizada, portanto decidi excluir ela do conjunto de dados"
      ],
      "metadata": {
        "id": "VkCehAkJr8Kc"
      }
    },
    {
      "cell_type": "code",
      "source": [
        "#Exclusão da Variável\n",
        "\n",
        "df = df.drop(['Data'], axis=1)"
      ],
      "metadata": {
        "id": "AFGsrqB1rHoI"
      },
      "execution_count": 7,
      "outputs": []
    },
    {
      "cell_type": "code",
      "source": [
        "#Verificação do dataframe em relação a exclusão\n",
        "\n",
        "df.head()"
      ],
      "metadata": {
        "colab": {
          "base_uri": "https://localhost:8080/",
          "height": 268
        },
        "id": "OzEjuuS2sIYh",
        "outputId": "c2d0a52f-383b-43fc-e185-58d8fafb9bd2"
      },
      "execution_count": 8,
      "outputs": [
        {
          "output_type": "execute_result",
          "data": {
            "text/plain": [
              "  Temperatura Media (C) Temperatura Minima (C) Temperatura Maxima (C)  \\\n",
              "0                  27,3                   23,9                   32,5   \n",
              "1                 27,02                   24,5                   33,5   \n",
              "2                 24,82                   22,4                   29,9   \n",
              "3                 23,98                   21,5                   28,6   \n",
              "4                 23,82                     21                   28,3   \n",
              "\n",
              "  Precipitacao (mm)  Final de Semana  Consumo de cerveja (litros)  \n",
              "0                 0              0.0                       25.461  \n",
              "1                 0              0.0                       28.972  \n",
              "2                 0              1.0                       30.814  \n",
              "3               1,2              1.0                       29.799  \n",
              "4                 0              0.0                       28.900  "
            ],
            "text/html": [
              "\n",
              "  <div id=\"df-6e4ffeac-6318-417f-b589-a75c6e99347c\">\n",
              "    <div class=\"colab-df-container\">\n",
              "      <div>\n",
              "<style scoped>\n",
              "    .dataframe tbody tr th:only-of-type {\n",
              "        vertical-align: middle;\n",
              "    }\n",
              "\n",
              "    .dataframe tbody tr th {\n",
              "        vertical-align: top;\n",
              "    }\n",
              "\n",
              "    .dataframe thead th {\n",
              "        text-align: right;\n",
              "    }\n",
              "</style>\n",
              "<table border=\"1\" class=\"dataframe\">\n",
              "  <thead>\n",
              "    <tr style=\"text-align: right;\">\n",
              "      <th></th>\n",
              "      <th>Temperatura Media (C)</th>\n",
              "      <th>Temperatura Minima (C)</th>\n",
              "      <th>Temperatura Maxima (C)</th>\n",
              "      <th>Precipitacao (mm)</th>\n",
              "      <th>Final de Semana</th>\n",
              "      <th>Consumo de cerveja (litros)</th>\n",
              "    </tr>\n",
              "  </thead>\n",
              "  <tbody>\n",
              "    <tr>\n",
              "      <th>0</th>\n",
              "      <td>27,3</td>\n",
              "      <td>23,9</td>\n",
              "      <td>32,5</td>\n",
              "      <td>0</td>\n",
              "      <td>0.0</td>\n",
              "      <td>25.461</td>\n",
              "    </tr>\n",
              "    <tr>\n",
              "      <th>1</th>\n",
              "      <td>27,02</td>\n",
              "      <td>24,5</td>\n",
              "      <td>33,5</td>\n",
              "      <td>0</td>\n",
              "      <td>0.0</td>\n",
              "      <td>28.972</td>\n",
              "    </tr>\n",
              "    <tr>\n",
              "      <th>2</th>\n",
              "      <td>24,82</td>\n",
              "      <td>22,4</td>\n",
              "      <td>29,9</td>\n",
              "      <td>0</td>\n",
              "      <td>1.0</td>\n",
              "      <td>30.814</td>\n",
              "    </tr>\n",
              "    <tr>\n",
              "      <th>3</th>\n",
              "      <td>23,98</td>\n",
              "      <td>21,5</td>\n",
              "      <td>28,6</td>\n",
              "      <td>1,2</td>\n",
              "      <td>1.0</td>\n",
              "      <td>29.799</td>\n",
              "    </tr>\n",
              "    <tr>\n",
              "      <th>4</th>\n",
              "      <td>23,82</td>\n",
              "      <td>21</td>\n",
              "      <td>28,3</td>\n",
              "      <td>0</td>\n",
              "      <td>0.0</td>\n",
              "      <td>28.900</td>\n",
              "    </tr>\n",
              "  </tbody>\n",
              "</table>\n",
              "</div>\n",
              "      <button class=\"colab-df-convert\" onclick=\"convertToInteractive('df-6e4ffeac-6318-417f-b589-a75c6e99347c')\"\n",
              "              title=\"Convert this dataframe to an interactive table.\"\n",
              "              style=\"display:none;\">\n",
              "        \n",
              "  <svg xmlns=\"http://www.w3.org/2000/svg\" height=\"24px\"viewBox=\"0 0 24 24\"\n",
              "       width=\"24px\">\n",
              "    <path d=\"M0 0h24v24H0V0z\" fill=\"none\"/>\n",
              "    <path d=\"M18.56 5.44l.94 2.06.94-2.06 2.06-.94-2.06-.94-.94-2.06-.94 2.06-2.06.94zm-11 1L8.5 8.5l.94-2.06 2.06-.94-2.06-.94L8.5 2.5l-.94 2.06-2.06.94zm10 10l.94 2.06.94-2.06 2.06-.94-2.06-.94-.94-2.06-.94 2.06-2.06.94z\"/><path d=\"M17.41 7.96l-1.37-1.37c-.4-.4-.92-.59-1.43-.59-.52 0-1.04.2-1.43.59L10.3 9.45l-7.72 7.72c-.78.78-.78 2.05 0 2.83L4 21.41c.39.39.9.59 1.41.59.51 0 1.02-.2 1.41-.59l7.78-7.78 2.81-2.81c.8-.78.8-2.07 0-2.86zM5.41 20L4 18.59l7.72-7.72 1.47 1.35L5.41 20z\"/>\n",
              "  </svg>\n",
              "      </button>\n",
              "      \n",
              "  <style>\n",
              "    .colab-df-container {\n",
              "      display:flex;\n",
              "      flex-wrap:wrap;\n",
              "      gap: 12px;\n",
              "    }\n",
              "\n",
              "    .colab-df-convert {\n",
              "      background-color: #E8F0FE;\n",
              "      border: none;\n",
              "      border-radius: 50%;\n",
              "      cursor: pointer;\n",
              "      display: none;\n",
              "      fill: #1967D2;\n",
              "      height: 32px;\n",
              "      padding: 0 0 0 0;\n",
              "      width: 32px;\n",
              "    }\n",
              "\n",
              "    .colab-df-convert:hover {\n",
              "      background-color: #E2EBFA;\n",
              "      box-shadow: 0px 1px 2px rgba(60, 64, 67, 0.3), 0px 1px 3px 1px rgba(60, 64, 67, 0.15);\n",
              "      fill: #174EA6;\n",
              "    }\n",
              "\n",
              "    [theme=dark] .colab-df-convert {\n",
              "      background-color: #3B4455;\n",
              "      fill: #D2E3FC;\n",
              "    }\n",
              "\n",
              "    [theme=dark] .colab-df-convert:hover {\n",
              "      background-color: #434B5C;\n",
              "      box-shadow: 0px 1px 3px 1px rgba(0, 0, 0, 0.15);\n",
              "      filter: drop-shadow(0px 1px 2px rgba(0, 0, 0, 0.3));\n",
              "      fill: #FFFFFF;\n",
              "    }\n",
              "  </style>\n",
              "\n",
              "      <script>\n",
              "        const buttonEl =\n",
              "          document.querySelector('#df-6e4ffeac-6318-417f-b589-a75c6e99347c button.colab-df-convert');\n",
              "        buttonEl.style.display =\n",
              "          google.colab.kernel.accessAllowed ? 'block' : 'none';\n",
              "\n",
              "        async function convertToInteractive(key) {\n",
              "          const element = document.querySelector('#df-6e4ffeac-6318-417f-b589-a75c6e99347c');\n",
              "          const dataTable =\n",
              "            await google.colab.kernel.invokeFunction('convertToInteractive',\n",
              "                                                     [key], {});\n",
              "          if (!dataTable) return;\n",
              "\n",
              "          const docLinkHtml = 'Like what you see? Visit the ' +\n",
              "            '<a target=\"_blank\" href=https://colab.research.google.com/notebooks/data_table.ipynb>data table notebook</a>'\n",
              "            + ' to learn more about interactive tables.';\n",
              "          element.innerHTML = '';\n",
              "          dataTable['output_type'] = 'display_data';\n",
              "          await google.colab.output.renderOutput(dataTable, element);\n",
              "          const docLink = document.createElement('div');\n",
              "          docLink.innerHTML = docLinkHtml;\n",
              "          element.appendChild(docLink);\n",
              "        }\n",
              "      </script>\n",
              "    </div>\n",
              "  </div>\n",
              "  "
            ]
          },
          "metadata": {},
          "execution_count": 8
        }
      ]
    },
    {
      "cell_type": "markdown",
      "source": [
        "## Transformando o tipo das variáveis\n"
      ],
      "metadata": {
        "id": "FFFWwRU4sGsl"
      }
    },
    {
      "cell_type": "code",
      "source": [
        "df['Temperatura Media (C)'] = df['Temperatura Media (C)'].str.replace(',' ,'.').astype(float)\n",
        "\n",
        "df['Temperatura Minima (C)'] = df['Temperatura Minima (C)'].str.replace(',' ,'.').astype(float)\n",
        "\n",
        "df['Temperatura Maxima (C)'] = df['Temperatura Maxima (C)'].str.replace(',' ,'.').astype(float)\n",
        "\n",
        "df['Precipitacao (mm)'] = df['Precipitacao (mm)'].str.replace(',' ,'.').astype(float)"
      ],
      "metadata": {
        "id": "IzeUKqlvsYLa"
      },
      "execution_count": 9,
      "outputs": []
    },
    {
      "cell_type": "code",
      "source": [
        "df.info()"
      ],
      "metadata": {
        "colab": {
          "base_uri": "https://localhost:8080/",
          "height": 0
        },
        "id": "S5KhYHMjtM_6",
        "outputId": "8faa24bc-386b-474c-9854-eaaa3af16957"
      },
      "execution_count": 10,
      "outputs": [
        {
          "output_type": "stream",
          "name": "stdout",
          "text": [
            "<class 'pandas.core.frame.DataFrame'>\n",
            "RangeIndex: 941 entries, 0 to 940\n",
            "Data columns (total 6 columns):\n",
            " #   Column                       Non-Null Count  Dtype  \n",
            "---  ------                       --------------  -----  \n",
            " 0   Temperatura Media (C)        365 non-null    float64\n",
            " 1   Temperatura Minima (C)       365 non-null    float64\n",
            " 2   Temperatura Maxima (C)       365 non-null    float64\n",
            " 3   Precipitacao (mm)            365 non-null    float64\n",
            " 4   Final de Semana              365 non-null    float64\n",
            " 5   Consumo de cerveja (litros)  365 non-null    float64\n",
            "dtypes: float64(6)\n",
            "memory usage: 44.2 KB\n"
          ]
        }
      ]
    },
    {
      "cell_type": "markdown",
      "source": [
        "## Valores nulos"
      ],
      "metadata": {
        "id": "kHjlKMA9teuy"
      }
    },
    {
      "cell_type": "code",
      "source": [
        "#Quantidade de valores nulos\n",
        "\n",
        "df.isna().sum()"
      ],
      "metadata": {
        "colab": {
          "base_uri": "https://localhost:8080/",
          "height": 0
        },
        "id": "UCxxak6wtaPy",
        "outputId": "7dc0f147-40e3-4a5a-a8e4-55eb3f0a2e19"
      },
      "execution_count": 11,
      "outputs": [
        {
          "output_type": "execute_result",
          "data": {
            "text/plain": [
              "Temperatura Media (C)          576\n",
              "Temperatura Minima (C)         576\n",
              "Temperatura Maxima (C)         576\n",
              "Precipitacao (mm)              576\n",
              "Final de Semana                576\n",
              "Consumo de cerveja (litros)    576\n",
              "dtype: int64"
            ]
          },
          "metadata": {},
          "execution_count": 11
        }
      ]
    },
    {
      "cell_type": "code",
      "source": [
        "#Retirando os valores nulos para que não haja influência na análise\n",
        "\n",
        "df = df.dropna()\n",
        "\n",
        "#Verificação dos valores nulos\n",
        "\n",
        "df.isna().sum()"
      ],
      "metadata": {
        "colab": {
          "base_uri": "https://localhost:8080/",
          "height": 0
        },
        "id": "YqWFPHmPtu4S",
        "outputId": "a08f1be2-85f7-47fc-fb88-3d6ebe802500"
      },
      "execution_count": 13,
      "outputs": [
        {
          "output_type": "execute_result",
          "data": {
            "text/plain": [
              "Temperatura Media (C)          0\n",
              "Temperatura Minima (C)         0\n",
              "Temperatura Maxima (C)         0\n",
              "Precipitacao (mm)              0\n",
              "Final de Semana                0\n",
              "Consumo de cerveja (litros)    0\n",
              "dtype: int64"
            ]
          },
          "metadata": {},
          "execution_count": 13
        }
      ]
    },
    {
      "cell_type": "code",
      "source": [
        "#Após a remoção dos valores nulos. Vamos verificar o tamanho do conjunto de dados.\n",
        "\n",
        "df.shape"
      ],
      "metadata": {
        "colab": {
          "base_uri": "https://localhost:8080/",
          "height": 0
        },
        "id": "rJUzMJaDuHqQ",
        "outputId": "7aedc794-e60b-44e2-b822-8f9360742824"
      },
      "execution_count": 14,
      "outputs": [
        {
          "output_type": "execute_result",
          "data": {
            "text/plain": [
              "(365, 6)"
            ]
          },
          "metadata": {},
          "execution_count": 14
        }
      ]
    },
    {
      "cell_type": "markdown",
      "source": [
        "Agora possuímos 365 linhas e 6 colunas."
      ],
      "metadata": {
        "id": "K41h5QO9t6W4"
      }
    },
    {
      "cell_type": "markdown",
      "source": [
        "## Nova Coluna: Choveu?"
      ],
      "metadata": {
        "id": "wAXE1HfBu15g"
      }
    },
    {
      "cell_type": "markdown",
      "source": [
        "Adicionando uma coluna baseada na variável Precipitação na qual 1 significa que choveu e 0 significa que não choveu naquele dia, para melhor manipulação dos dados.\n"
      ],
      "metadata": {
        "id": "uT5XMeGmupYv"
      }
    },
    {
      "cell_type": "code",
      "source": [
        "#Choveu? 1-sim 0-não\n",
        "\n",
        "df['Choveu?'] = df['Precipitacao (mm)'].apply(lambda x: 1.0 if x > 0 else 0.0)"
      ],
      "metadata": {
        "id": "b-t5KZ90vvsL"
      },
      "execution_count": 15,
      "outputs": []
    },
    {
      "cell_type": "code",
      "source": [
        "df.head()"
      ],
      "metadata": {
        "colab": {
          "base_uri": "https://localhost:8080/",
          "height": 285
        },
        "id": "bMZ-wygDv0Vr",
        "outputId": "c0203ed9-480a-45dd-be7d-cf8b8de63bbe"
      },
      "execution_count": 16,
      "outputs": [
        {
          "output_type": "execute_result",
          "data": {
            "text/plain": [
              "   Temperatura Media (C)  Temperatura Minima (C)  Temperatura Maxima (C)  \\\n",
              "0                  27.30                    23.9                    32.5   \n",
              "1                  27.02                    24.5                    33.5   \n",
              "2                  24.82                    22.4                    29.9   \n",
              "3                  23.98                    21.5                    28.6   \n",
              "4                  23.82                    21.0                    28.3   \n",
              "\n",
              "   Precipitacao (mm)  Final de Semana  Consumo de cerveja (litros)  Choveu?  \n",
              "0                0.0              0.0                       25.461      0.0  \n",
              "1                0.0              0.0                       28.972      0.0  \n",
              "2                0.0              1.0                       30.814      0.0  \n",
              "3                1.2              1.0                       29.799      1.0  \n",
              "4                0.0              0.0                       28.900      0.0  "
            ],
            "text/html": [
              "\n",
              "  <div id=\"df-9b4584f2-0b76-4743-9d76-126a26d9efa9\">\n",
              "    <div class=\"colab-df-container\">\n",
              "      <div>\n",
              "<style scoped>\n",
              "    .dataframe tbody tr th:only-of-type {\n",
              "        vertical-align: middle;\n",
              "    }\n",
              "\n",
              "    .dataframe tbody tr th {\n",
              "        vertical-align: top;\n",
              "    }\n",
              "\n",
              "    .dataframe thead th {\n",
              "        text-align: right;\n",
              "    }\n",
              "</style>\n",
              "<table border=\"1\" class=\"dataframe\">\n",
              "  <thead>\n",
              "    <tr style=\"text-align: right;\">\n",
              "      <th></th>\n",
              "      <th>Temperatura Media (C)</th>\n",
              "      <th>Temperatura Minima (C)</th>\n",
              "      <th>Temperatura Maxima (C)</th>\n",
              "      <th>Precipitacao (mm)</th>\n",
              "      <th>Final de Semana</th>\n",
              "      <th>Consumo de cerveja (litros)</th>\n",
              "      <th>Choveu?</th>\n",
              "    </tr>\n",
              "  </thead>\n",
              "  <tbody>\n",
              "    <tr>\n",
              "      <th>0</th>\n",
              "      <td>27.30</td>\n",
              "      <td>23.9</td>\n",
              "      <td>32.5</td>\n",
              "      <td>0.0</td>\n",
              "      <td>0.0</td>\n",
              "      <td>25.461</td>\n",
              "      <td>0.0</td>\n",
              "    </tr>\n",
              "    <tr>\n",
              "      <th>1</th>\n",
              "      <td>27.02</td>\n",
              "      <td>24.5</td>\n",
              "      <td>33.5</td>\n",
              "      <td>0.0</td>\n",
              "      <td>0.0</td>\n",
              "      <td>28.972</td>\n",
              "      <td>0.0</td>\n",
              "    </tr>\n",
              "    <tr>\n",
              "      <th>2</th>\n",
              "      <td>24.82</td>\n",
              "      <td>22.4</td>\n",
              "      <td>29.9</td>\n",
              "      <td>0.0</td>\n",
              "      <td>1.0</td>\n",
              "      <td>30.814</td>\n",
              "      <td>0.0</td>\n",
              "    </tr>\n",
              "    <tr>\n",
              "      <th>3</th>\n",
              "      <td>23.98</td>\n",
              "      <td>21.5</td>\n",
              "      <td>28.6</td>\n",
              "      <td>1.2</td>\n",
              "      <td>1.0</td>\n",
              "      <td>29.799</td>\n",
              "      <td>1.0</td>\n",
              "    </tr>\n",
              "    <tr>\n",
              "      <th>4</th>\n",
              "      <td>23.82</td>\n",
              "      <td>21.0</td>\n",
              "      <td>28.3</td>\n",
              "      <td>0.0</td>\n",
              "      <td>0.0</td>\n",
              "      <td>28.900</td>\n",
              "      <td>0.0</td>\n",
              "    </tr>\n",
              "  </tbody>\n",
              "</table>\n",
              "</div>\n",
              "      <button class=\"colab-df-convert\" onclick=\"convertToInteractive('df-9b4584f2-0b76-4743-9d76-126a26d9efa9')\"\n",
              "              title=\"Convert this dataframe to an interactive table.\"\n",
              "              style=\"display:none;\">\n",
              "        \n",
              "  <svg xmlns=\"http://www.w3.org/2000/svg\" height=\"24px\"viewBox=\"0 0 24 24\"\n",
              "       width=\"24px\">\n",
              "    <path d=\"M0 0h24v24H0V0z\" fill=\"none\"/>\n",
              "    <path d=\"M18.56 5.44l.94 2.06.94-2.06 2.06-.94-2.06-.94-.94-2.06-.94 2.06-2.06.94zm-11 1L8.5 8.5l.94-2.06 2.06-.94-2.06-.94L8.5 2.5l-.94 2.06-2.06.94zm10 10l.94 2.06.94-2.06 2.06-.94-2.06-.94-.94-2.06-.94 2.06-2.06.94z\"/><path d=\"M17.41 7.96l-1.37-1.37c-.4-.4-.92-.59-1.43-.59-.52 0-1.04.2-1.43.59L10.3 9.45l-7.72 7.72c-.78.78-.78 2.05 0 2.83L4 21.41c.39.39.9.59 1.41.59.51 0 1.02-.2 1.41-.59l7.78-7.78 2.81-2.81c.8-.78.8-2.07 0-2.86zM5.41 20L4 18.59l7.72-7.72 1.47 1.35L5.41 20z\"/>\n",
              "  </svg>\n",
              "      </button>\n",
              "      \n",
              "  <style>\n",
              "    .colab-df-container {\n",
              "      display:flex;\n",
              "      flex-wrap:wrap;\n",
              "      gap: 12px;\n",
              "    }\n",
              "\n",
              "    .colab-df-convert {\n",
              "      background-color: #E8F0FE;\n",
              "      border: none;\n",
              "      border-radius: 50%;\n",
              "      cursor: pointer;\n",
              "      display: none;\n",
              "      fill: #1967D2;\n",
              "      height: 32px;\n",
              "      padding: 0 0 0 0;\n",
              "      width: 32px;\n",
              "    }\n",
              "\n",
              "    .colab-df-convert:hover {\n",
              "      background-color: #E2EBFA;\n",
              "      box-shadow: 0px 1px 2px rgba(60, 64, 67, 0.3), 0px 1px 3px 1px rgba(60, 64, 67, 0.15);\n",
              "      fill: #174EA6;\n",
              "    }\n",
              "\n",
              "    [theme=dark] .colab-df-convert {\n",
              "      background-color: #3B4455;\n",
              "      fill: #D2E3FC;\n",
              "    }\n",
              "\n",
              "    [theme=dark] .colab-df-convert:hover {\n",
              "      background-color: #434B5C;\n",
              "      box-shadow: 0px 1px 3px 1px rgba(0, 0, 0, 0.15);\n",
              "      filter: drop-shadow(0px 1px 2px rgba(0, 0, 0, 0.3));\n",
              "      fill: #FFFFFF;\n",
              "    }\n",
              "  </style>\n",
              "\n",
              "      <script>\n",
              "        const buttonEl =\n",
              "          document.querySelector('#df-9b4584f2-0b76-4743-9d76-126a26d9efa9 button.colab-df-convert');\n",
              "        buttonEl.style.display =\n",
              "          google.colab.kernel.accessAllowed ? 'block' : 'none';\n",
              "\n",
              "        async function convertToInteractive(key) {\n",
              "          const element = document.querySelector('#df-9b4584f2-0b76-4743-9d76-126a26d9efa9');\n",
              "          const dataTable =\n",
              "            await google.colab.kernel.invokeFunction('convertToInteractive',\n",
              "                                                     [key], {});\n",
              "          if (!dataTable) return;\n",
              "\n",
              "          const docLinkHtml = 'Like what you see? Visit the ' +\n",
              "            '<a target=\"_blank\" href=https://colab.research.google.com/notebooks/data_table.ipynb>data table notebook</a>'\n",
              "            + ' to learn more about interactive tables.';\n",
              "          element.innerHTML = '';\n",
              "          dataTable['output_type'] = 'display_data';\n",
              "          await google.colab.output.renderOutput(dataTable, element);\n",
              "          const docLink = document.createElement('div');\n",
              "          docLink.innerHTML = docLinkHtml;\n",
              "          element.appendChild(docLink);\n",
              "        }\n",
              "      </script>\n",
              "    </div>\n",
              "  </div>\n",
              "  "
            ]
          },
          "metadata": {},
          "execution_count": 16
        }
      ]
    },
    {
      "cell_type": "markdown",
      "source": [
        "# Análise Exploratória de Dados"
      ],
      "metadata": {
        "id": "y2yhgrYYwCZe"
      }
    },
    {
      "cell_type": "markdown",
      "source": [
        "##Estatísticas"
      ],
      "metadata": {
        "id": "YYanSy7Fv_bY"
      }
    },
    {
      "cell_type": "code",
      "source": [
        "#Observando a contagem, média, desvio padrão, mínimo, 25%,50%, 75% e máximo.\n",
        "\n",
        "df.describe().transpose()"
      ],
      "metadata": {
        "colab": {
          "base_uri": "https://localhost:8080/",
          "height": 269
        },
        "id": "SKZoJZdqwDg0",
        "outputId": "f93304b6-abe0-4c09-9298-613e192c26c5"
      },
      "execution_count": 17,
      "outputs": [
        {
          "output_type": "execute_result",
          "data": {
            "text/plain": [
              "                             count       mean        std     min     25%  \\\n",
              "Temperatura Media (C)        365.0  21.226356   3.180108  12.900  19.020   \n",
              "Temperatura Minima (C)       365.0  17.461370   2.826185  10.600  15.300   \n",
              "Temperatura Maxima (C)       365.0  26.611507   4.317366  14.500  23.800   \n",
              "Precipitacao (mm)            365.0   5.196712  12.417844   0.000   0.000   \n",
              "Final de Semana              365.0   0.284932   0.452001   0.000   0.000   \n",
              "Consumo de cerveja (litros)  365.0  25.401367   4.399143  14.343  22.008   \n",
              "Choveu?                      365.0   0.402740   0.491122   0.000   0.000   \n",
              "\n",
              "                                50%     75%     max  \n",
              "Temperatura Media (C)        21.380  23.280  28.860  \n",
              "Temperatura Minima (C)       17.900  19.600  24.500  \n",
              "Temperatura Maxima (C)       26.900  29.400  36.500  \n",
              "Precipitacao (mm)             0.000   3.200  94.800  \n",
              "Final de Semana               0.000   1.000   1.000  \n",
              "Consumo de cerveja (litros)  24.867  28.631  37.937  \n",
              "Choveu?                       0.000   1.000   1.000  "
            ],
            "text/html": [
              "\n",
              "  <div id=\"df-21a41aa6-875e-4a89-a25d-accaf84e01c7\">\n",
              "    <div class=\"colab-df-container\">\n",
              "      <div>\n",
              "<style scoped>\n",
              "    .dataframe tbody tr th:only-of-type {\n",
              "        vertical-align: middle;\n",
              "    }\n",
              "\n",
              "    .dataframe tbody tr th {\n",
              "        vertical-align: top;\n",
              "    }\n",
              "\n",
              "    .dataframe thead th {\n",
              "        text-align: right;\n",
              "    }\n",
              "</style>\n",
              "<table border=\"1\" class=\"dataframe\">\n",
              "  <thead>\n",
              "    <tr style=\"text-align: right;\">\n",
              "      <th></th>\n",
              "      <th>count</th>\n",
              "      <th>mean</th>\n",
              "      <th>std</th>\n",
              "      <th>min</th>\n",
              "      <th>25%</th>\n",
              "      <th>50%</th>\n",
              "      <th>75%</th>\n",
              "      <th>max</th>\n",
              "    </tr>\n",
              "  </thead>\n",
              "  <tbody>\n",
              "    <tr>\n",
              "      <th>Temperatura Media (C)</th>\n",
              "      <td>365.0</td>\n",
              "      <td>21.226356</td>\n",
              "      <td>3.180108</td>\n",
              "      <td>12.900</td>\n",
              "      <td>19.020</td>\n",
              "      <td>21.380</td>\n",
              "      <td>23.280</td>\n",
              "      <td>28.860</td>\n",
              "    </tr>\n",
              "    <tr>\n",
              "      <th>Temperatura Minima (C)</th>\n",
              "      <td>365.0</td>\n",
              "      <td>17.461370</td>\n",
              "      <td>2.826185</td>\n",
              "      <td>10.600</td>\n",
              "      <td>15.300</td>\n",
              "      <td>17.900</td>\n",
              "      <td>19.600</td>\n",
              "      <td>24.500</td>\n",
              "    </tr>\n",
              "    <tr>\n",
              "      <th>Temperatura Maxima (C)</th>\n",
              "      <td>365.0</td>\n",
              "      <td>26.611507</td>\n",
              "      <td>4.317366</td>\n",
              "      <td>14.500</td>\n",
              "      <td>23.800</td>\n",
              "      <td>26.900</td>\n",
              "      <td>29.400</td>\n",
              "      <td>36.500</td>\n",
              "    </tr>\n",
              "    <tr>\n",
              "      <th>Precipitacao (mm)</th>\n",
              "      <td>365.0</td>\n",
              "      <td>5.196712</td>\n",
              "      <td>12.417844</td>\n",
              "      <td>0.000</td>\n",
              "      <td>0.000</td>\n",
              "      <td>0.000</td>\n",
              "      <td>3.200</td>\n",
              "      <td>94.800</td>\n",
              "    </tr>\n",
              "    <tr>\n",
              "      <th>Final de Semana</th>\n",
              "      <td>365.0</td>\n",
              "      <td>0.284932</td>\n",
              "      <td>0.452001</td>\n",
              "      <td>0.000</td>\n",
              "      <td>0.000</td>\n",
              "      <td>0.000</td>\n",
              "      <td>1.000</td>\n",
              "      <td>1.000</td>\n",
              "    </tr>\n",
              "    <tr>\n",
              "      <th>Consumo de cerveja (litros)</th>\n",
              "      <td>365.0</td>\n",
              "      <td>25.401367</td>\n",
              "      <td>4.399143</td>\n",
              "      <td>14.343</td>\n",
              "      <td>22.008</td>\n",
              "      <td>24.867</td>\n",
              "      <td>28.631</td>\n",
              "      <td>37.937</td>\n",
              "    </tr>\n",
              "    <tr>\n",
              "      <th>Choveu?</th>\n",
              "      <td>365.0</td>\n",
              "      <td>0.402740</td>\n",
              "      <td>0.491122</td>\n",
              "      <td>0.000</td>\n",
              "      <td>0.000</td>\n",
              "      <td>0.000</td>\n",
              "      <td>1.000</td>\n",
              "      <td>1.000</td>\n",
              "    </tr>\n",
              "  </tbody>\n",
              "</table>\n",
              "</div>\n",
              "      <button class=\"colab-df-convert\" onclick=\"convertToInteractive('df-21a41aa6-875e-4a89-a25d-accaf84e01c7')\"\n",
              "              title=\"Convert this dataframe to an interactive table.\"\n",
              "              style=\"display:none;\">\n",
              "        \n",
              "  <svg xmlns=\"http://www.w3.org/2000/svg\" height=\"24px\"viewBox=\"0 0 24 24\"\n",
              "       width=\"24px\">\n",
              "    <path d=\"M0 0h24v24H0V0z\" fill=\"none\"/>\n",
              "    <path d=\"M18.56 5.44l.94 2.06.94-2.06 2.06-.94-2.06-.94-.94-2.06-.94 2.06-2.06.94zm-11 1L8.5 8.5l.94-2.06 2.06-.94-2.06-.94L8.5 2.5l-.94 2.06-2.06.94zm10 10l.94 2.06.94-2.06 2.06-.94-2.06-.94-.94-2.06-.94 2.06-2.06.94z\"/><path d=\"M17.41 7.96l-1.37-1.37c-.4-.4-.92-.59-1.43-.59-.52 0-1.04.2-1.43.59L10.3 9.45l-7.72 7.72c-.78.78-.78 2.05 0 2.83L4 21.41c.39.39.9.59 1.41.59.51 0 1.02-.2 1.41-.59l7.78-7.78 2.81-2.81c.8-.78.8-2.07 0-2.86zM5.41 20L4 18.59l7.72-7.72 1.47 1.35L5.41 20z\"/>\n",
              "  </svg>\n",
              "      </button>\n",
              "      \n",
              "  <style>\n",
              "    .colab-df-container {\n",
              "      display:flex;\n",
              "      flex-wrap:wrap;\n",
              "      gap: 12px;\n",
              "    }\n",
              "\n",
              "    .colab-df-convert {\n",
              "      background-color: #E8F0FE;\n",
              "      border: none;\n",
              "      border-radius: 50%;\n",
              "      cursor: pointer;\n",
              "      display: none;\n",
              "      fill: #1967D2;\n",
              "      height: 32px;\n",
              "      padding: 0 0 0 0;\n",
              "      width: 32px;\n",
              "    }\n",
              "\n",
              "    .colab-df-convert:hover {\n",
              "      background-color: #E2EBFA;\n",
              "      box-shadow: 0px 1px 2px rgba(60, 64, 67, 0.3), 0px 1px 3px 1px rgba(60, 64, 67, 0.15);\n",
              "      fill: #174EA6;\n",
              "    }\n",
              "\n",
              "    [theme=dark] .colab-df-convert {\n",
              "      background-color: #3B4455;\n",
              "      fill: #D2E3FC;\n",
              "    }\n",
              "\n",
              "    [theme=dark] .colab-df-convert:hover {\n",
              "      background-color: #434B5C;\n",
              "      box-shadow: 0px 1px 3px 1px rgba(0, 0, 0, 0.15);\n",
              "      filter: drop-shadow(0px 1px 2px rgba(0, 0, 0, 0.3));\n",
              "      fill: #FFFFFF;\n",
              "    }\n",
              "  </style>\n",
              "\n",
              "      <script>\n",
              "        const buttonEl =\n",
              "          document.querySelector('#df-21a41aa6-875e-4a89-a25d-accaf84e01c7 button.colab-df-convert');\n",
              "        buttonEl.style.display =\n",
              "          google.colab.kernel.accessAllowed ? 'block' : 'none';\n",
              "\n",
              "        async function convertToInteractive(key) {\n",
              "          const element = document.querySelector('#df-21a41aa6-875e-4a89-a25d-accaf84e01c7');\n",
              "          const dataTable =\n",
              "            await google.colab.kernel.invokeFunction('convertToInteractive',\n",
              "                                                     [key], {});\n",
              "          if (!dataTable) return;\n",
              "\n",
              "          const docLinkHtml = 'Like what you see? Visit the ' +\n",
              "            '<a target=\"_blank\" href=https://colab.research.google.com/notebooks/data_table.ipynb>data table notebook</a>'\n",
              "            + ' to learn more about interactive tables.';\n",
              "          element.innerHTML = '';\n",
              "          dataTable['output_type'] = 'display_data';\n",
              "          await google.colab.output.renderOutput(dataTable, element);\n",
              "          const docLink = document.createElement('div');\n",
              "          docLink.innerHTML = docLinkHtml;\n",
              "          element.appendChild(docLink);\n",
              "        }\n",
              "      </script>\n",
              "    </div>\n",
              "  </div>\n",
              "  "
            ]
          },
          "metadata": {},
          "execution_count": 17
        }
      ]
    },
    {
      "cell_type": "markdown",
      "source": [
        "## Algumas observações\n"
      ],
      "metadata": {
        "id": "RVYcFxyizktP"
      }
    },
    {
      "cell_type": "markdown",
      "source": [
        "### As pessoas bebem mais no final de semana ou dia de semana?"
      ],
      "metadata": {
        "id": "Kv-tLF-tx_TT"
      }
    },
    {
      "cell_type": "code",
      "source": [
        "df['Consumo de cerveja (litros)'].groupby(df['Final de Semana']).agg('mean')\n"
      ],
      "metadata": {
        "colab": {
          "base_uri": "https://localhost:8080/",
          "height": 0
        },
        "id": "ggHNZHNswerP",
        "outputId": "5bb77f5e-6dc6-4198-b23a-5c3d75a03e57"
      },
      "execution_count": 18,
      "outputs": [
        {
          "output_type": "execute_result",
          "data": {
            "text/plain": [
              "Final de Semana\n",
              "0.0    23.998222\n",
              "1.0    28.922721\n",
              "Name: Consumo de cerveja (litros), dtype: float64"
            ]
          },
          "metadata": {},
          "execution_count": 18
        }
      ]
    },
    {
      "cell_type": "code",
      "source": [
        "x = 'Final de Semana'\n",
        "y = 'Consumo de cerveja (litros)'\n",
        "\n",
        "plt.figure(figsize = (10,6))\n",
        "\n",
        "boxplot = sns.boxplot(x=x,y=y,data=df,palette='hls')\n",
        "\n",
        "boxplot.set_title('Consumo de litros de Cerveja em dias de semana e finais de semana')\n",
        "\n",
        "plt.show()"
      ],
      "metadata": {
        "colab": {
          "base_uri": "https://localhost:8080/",
          "height": 404
        },
        "id": "SAXFV2Yby35Q",
        "outputId": "ee237f56-7236-4637-c12e-7690971cf18d"
      },
      "execution_count": 25,
      "outputs": [
        {
          "output_type": "display_data",
          "data": {
            "text/plain": [
              "<Figure size 720x432 with 1 Axes>"
            ],
            "image/png": "[encoded data removed]"
          },
          "metadata": {
            "needs_background": "light"
          }
        }
      ]
    },
    {
      "cell_type": "markdown",
      "source": [
        "O consumo médio de cerveja é maior nos finais de semana.\n",
        "\n",
        "Nos dias de semana, 50% dos dados estão mais ou menos entre 20 e 27 litros de cerveja. Já nos finais de semana, 50% dos dados estão entre 25 e 33 litros.\n",
        "\n",
        "Além disso, por meio deste gráfico, pode-se perceber que existem três outliers nos dias de semana. \n",
        "\n",
        "No código abaixo vou verificar esses outliers."
      ],
      "metadata": {
        "id": "9Fou_7y3yGjk"
      }
    },
    {
      "cell_type": "code",
      "source": [
        "(df[(df['Final de Semana'] == 0.0) & (df['Consumo de cerveja (litros)'] > 33.5)])"
      ],
      "metadata": {
        "colab": {
          "base_uri": "https://localhost:8080/",
          "height": 222
        },
        "id": "NyiuEylRzN9I",
        "outputId": "39c7daff-e2a6-48df-9f59-205c0165ed12"
      },
      "execution_count": 26,
      "outputs": [
        {
          "output_type": "execute_result",
          "data": {
            "text/plain": [
              "     Temperatura Media (C)  Temperatura Minima (C)  Temperatura Maxima (C)  \\\n",
              "19                   27.68                    23.3                    35.6   \n",
              "259                  27.26                    20.4                    33.0   \n",
              "287                  28.12                    18.9                    35.8   \n",
              "\n",
              "     Precipitacao (mm)  Final de Semana  Consumo de cerveja (litros)  Choveu?  \n",
              "19                 0.6              0.0                       35.127      1.0  \n",
              "259                0.0              0.0                       33.930      0.0  \n",
              "287                0.0              0.0                       35.861      0.0  "
            ],
            "text/html": [
              "\n",
              "  <div id=\"df-e263f5b9-3d55-4f5f-8f3d-02e7301ee3bf\">\n",
              "    <div class=\"colab-df-container\">\n",
              "      <div>\n",
              "<style scoped>\n",
              "    .dataframe tbody tr th:only-of-type {\n",
              "        vertical-align: middle;\n",
              "    }\n",
              "\n",
              "    .dataframe tbody tr th {\n",
              "        vertical-align: top;\n",
              "    }\n",
              "\n",
              "    .dataframe thead th {\n",
              "        text-align: right;\n",
              "    }\n",
              "</style>\n",
              "<table border=\"1\" class=\"dataframe\">\n",
              "  <thead>\n",
              "    <tr style=\"text-align: right;\">\n",
              "      <th></th>\n",
              "      <th>Temperatura Media (C)</th>\n",
              "      <th>Temperatura Minima (C)</th>\n",
              "      <th>Temperatura Maxima (C)</th>\n",
              "      <th>Precipitacao (mm)</th>\n",
              "      <th>Final de Semana</th>\n",
              "      <th>Consumo de cerveja (litros)</th>\n",
              "      <th>Choveu?</th>\n",
              "    </tr>\n",
              "  </thead>\n",
              "  <tbody>\n",
              "    <tr>\n",
              "      <th>19</th>\n",
              "      <td>27.68</td>\n",
              "      <td>23.3</td>\n",
              "      <td>35.6</td>\n",
              "      <td>0.6</td>\n",
              "      <td>0.0</td>\n",
              "      <td>35.127</td>\n",
              "      <td>1.0</td>\n",
              "    </tr>\n",
              "    <tr>\n",
              "      <th>259</th>\n",
              "      <td>27.26</td>\n",
              "      <td>20.4</td>\n",
              "      <td>33.0</td>\n",
              "      <td>0.0</td>\n",
              "      <td>0.0</td>\n",
              "      <td>33.930</td>\n",
              "      <td>0.0</td>\n",
              "    </tr>\n",
              "    <tr>\n",
              "      <th>287</th>\n",
              "      <td>28.12</td>\n",
              "      <td>18.9</td>\n",
              "      <td>35.8</td>\n",
              "      <td>0.0</td>\n",
              "      <td>0.0</td>\n",
              "      <td>35.861</td>\n",
              "      <td>0.0</td>\n",
              "    </tr>\n",
              "  </tbody>\n",
              "</table>\n",
              "</div>\n",
              "      <button class=\"colab-df-convert\" onclick=\"convertToInteractive('df-e263f5b9-3d55-4f5f-8f3d-02e7301ee3bf')\"\n",
              "              title=\"Convert this dataframe to an interactive table.\"\n",
              "              style=\"display:none;\">\n",
              "        \n",
              "  <svg xmlns=\"http://www.w3.org/2000/svg\" height=\"24px\"viewBox=\"0 0 24 24\"\n",
              "       width=\"24px\">\n",
              "    <path d=\"M0 0h24v24H0V0z\" fill=\"none\"/>\n",
              "    <path d=\"M18.56 5.44l.94 2.06.94-2.06 2.06-.94-2.06-.94-.94-2.06-.94 2.06-2.06.94zm-11 1L8.5 8.5l.94-2.06 2.06-.94-2.06-.94L8.5 2.5l-.94 2.06-2.06.94zm10 10l.94 2.06.94-2.06 2.06-.94-2.06-.94-.94-2.06-.94 2.06-2.06.94z\"/><path d=\"M17.41 7.96l-1.37-1.37c-.4-.4-.92-.59-1.43-.59-.52 0-1.04.2-1.43.59L10.3 9.45l-7.72 7.72c-.78.78-.78 2.05 0 2.83L4 21.41c.39.39.9.59 1.41.59.51 0 1.02-.2 1.41-.59l7.78-7.78 2.81-2.81c.8-.78.8-2.07 0-2.86zM5.41 20L4 18.59l7.72-7.72 1.47 1.35L5.41 20z\"/>\n",
              "  </svg>\n",
              "      </button>\n",
              "      \n",
              "  <style>\n",
              "    .colab-df-container {\n",
              "      display:flex;\n",
              "      flex-wrap:wrap;\n",
              "      gap: 12px;\n",
              "    }\n",
              "\n",
              "    .colab-df-convert {\n",
              "      background-color: #E8F0FE;\n",
              "      border: none;\n",
              "      border-radius: 50%;\n",
              "      cursor: pointer;\n",
              "      display: none;\n",
              "      fill: #1967D2;\n",
              "      height: 32px;\n",
              "      padding: 0 0 0 0;\n",
              "      width: 32px;\n",
              "    }\n",
              "\n",
              "    .colab-df-convert:hover {\n",
              "      background-color: #E2EBFA;\n",
              "      box-shadow: 0px 1px 2px rgba(60, 64, 67, 0.3), 0px 1px 3px 1px rgba(60, 64, 67, 0.15);\n",
              "      fill: #174EA6;\n",
              "    }\n",
              "\n",
              "    [theme=dark] .colab-df-convert {\n",
              "      background-color: #3B4455;\n",
              "      fill: #D2E3FC;\n",
              "    }\n",
              "\n",
              "    [theme=dark] .colab-df-convert:hover {\n",
              "      background-color: #434B5C;\n",
              "      box-shadow: 0px 1px 3px 1px rgba(0, 0, 0, 0.15);\n",
              "      filter: drop-shadow(0px 1px 2px rgba(0, 0, 0, 0.3));\n",
              "      fill: #FFFFFF;\n",
              "    }\n",
              "  </style>\n",
              "\n",
              "      <script>\n",
              "        const buttonEl =\n",
              "          document.querySelector('#df-e263f5b9-3d55-4f5f-8f3d-02e7301ee3bf button.colab-df-convert');\n",
              "        buttonEl.style.display =\n",
              "          google.colab.kernel.accessAllowed ? 'block' : 'none';\n",
              "\n",
              "        async function convertToInteractive(key) {\n",
              "          const element = document.querySelector('#df-e263f5b9-3d55-4f5f-8f3d-02e7301ee3bf');\n",
              "          const dataTable =\n",
              "            await google.colab.kernel.invokeFunction('convertToInteractive',\n",
              "                                                     [key], {});\n",
              "          if (!dataTable) return;\n",
              "\n",
              "          const docLinkHtml = 'Like what you see? Visit the ' +\n",
              "            '<a target=\"_blank\" href=https://colab.research.google.com/notebooks/data_table.ipynb>data table notebook</a>'\n",
              "            + ' to learn more about interactive tables.';\n",
              "          element.innerHTML = '';\n",
              "          dataTable['output_type'] = 'display_data';\n",
              "          await google.colab.output.renderOutput(dataTable, element);\n",
              "          const docLink = document.createElement('div');\n",
              "          docLink.innerHTML = docLinkHtml;\n",
              "          element.appendChild(docLink);\n",
              "        }\n",
              "      </script>\n",
              "    </div>\n",
              "  </div>\n",
              "  "
            ]
          },
          "metadata": {},
          "execution_count": 26
        }
      ]
    },
    {
      "cell_type": "markdown",
      "source": [
        "### Qual a média do consumo de cerveja em dias que chovem e em dias que não chovem? E fim de semana e dia de semana que chovem e não chovem?"
      ],
      "metadata": {
        "id": "8pT1RwJtzyq1"
      }
    },
    {
      "cell_type": "code",
      "source": [
        "df['Consumo de cerveja (litros)'].groupby(df['Choveu?']).agg('mean')"
      ],
      "metadata": {
        "colab": {
          "base_uri": "https://localhost:8080/",
          "height": 0
        },
        "id": "G2lAbf-x0LZL",
        "outputId": "9b5775b7-ef5d-4dfa-f68e-05ddb12177c1"
      },
      "execution_count": 27,
      "outputs": [
        {
          "output_type": "execute_result",
          "data": {
            "text/plain": [
              "Choveu?\n",
              "0.0    25.929757\n",
              "1.0    24.617769\n",
              "Name: Consumo de cerveja (litros), dtype: float64"
            ]
          },
          "metadata": {},
          "execution_count": 27
        }
      ]
    },
    {
      "cell_type": "markdown",
      "source": [
        "Em dias que choveu, a média do consumo foi menor que nos dias que não choveu.\n",
        "\n",
        "Média do consumo em dias da semana e em finais de semana que estão chovendo e que não estão chovendo:"
      ],
      "metadata": {
        "id": "RU6LXEio0WcX"
      }
    },
    {
      "cell_type": "code",
      "source": [
        "consumo_chuva = pd.pivot_table(df,\n",
        "                       columns = 'Final de Semana',\n",
        "                       index = 'Choveu?',\n",
        "                       values = 'Consumo de cerveja (litros)',\n",
        "                       aggfunc = 'mean')\n",
        "\n",
        "consumo_chuva"
      ],
      "metadata": {
        "colab": {
          "base_uri": "https://localhost:8080/",
          "height": 143
        },
        "id": "bYl1devk0ZV3",
        "outputId": "33922f47-9677-456b-a064-979a9ed63f4a"
      },
      "execution_count": 28,
      "outputs": [
        {
          "output_type": "execute_result",
          "data": {
            "text/plain": [
              "Final de Semana        0.0        1.0\n",
              "Choveu?                              \n",
              "0.0              24.495261  29.621820\n",
              "1.0              23.247885  27.930977"
            ],
            "text/html": [
              "\n",
              "  <div id=\"df-ef6df2be-a502-40ca-80c5-57568ff50f7b\">\n",
              "    <div class=\"colab-df-container\">\n",
              "      <div>\n",
              "<style scoped>\n",
              "    .dataframe tbody tr th:only-of-type {\n",
              "        vertical-align: middle;\n",
              "    }\n",
              "\n",
              "    .dataframe tbody tr th {\n",
              "        vertical-align: top;\n",
              "    }\n",
              "\n",
              "    .dataframe thead th {\n",
              "        text-align: right;\n",
              "    }\n",
              "</style>\n",
              "<table border=\"1\" class=\"dataframe\">\n",
              "  <thead>\n",
              "    <tr style=\"text-align: right;\">\n",
              "      <th>Final de Semana</th>\n",
              "      <th>0.0</th>\n",
              "      <th>1.0</th>\n",
              "    </tr>\n",
              "    <tr>\n",
              "      <th>Choveu?</th>\n",
              "      <th></th>\n",
              "      <th></th>\n",
              "    </tr>\n",
              "  </thead>\n",
              "  <tbody>\n",
              "    <tr>\n",
              "      <th>0.0</th>\n",
              "      <td>24.495261</td>\n",
              "      <td>29.621820</td>\n",
              "    </tr>\n",
              "    <tr>\n",
              "      <th>1.0</th>\n",
              "      <td>23.247885</td>\n",
              "      <td>27.930977</td>\n",
              "    </tr>\n",
              "  </tbody>\n",
              "</table>\n",
              "</div>\n",
              "      <button class=\"colab-df-convert\" onclick=\"convertToInteractive('df-ef6df2be-a502-40ca-80c5-57568ff50f7b')\"\n",
              "              title=\"Convert this dataframe to an interactive table.\"\n",
              "              style=\"display:none;\">\n",
              "        \n",
              "  <svg xmlns=\"http://www.w3.org/2000/svg\" height=\"24px\"viewBox=\"0 0 24 24\"\n",
              "       width=\"24px\">\n",
              "    <path d=\"M0 0h24v24H0V0z\" fill=\"none\"/>\n",
              "    <path d=\"M18.56 5.44l.94 2.06.94-2.06 2.06-.94-2.06-.94-.94-2.06-.94 2.06-2.06.94zm-11 1L8.5 8.5l.94-2.06 2.06-.94-2.06-.94L8.5 2.5l-.94 2.06-2.06.94zm10 10l.94 2.06.94-2.06 2.06-.94-2.06-.94-.94-2.06-.94 2.06-2.06.94z\"/><path d=\"M17.41 7.96l-1.37-1.37c-.4-.4-.92-.59-1.43-.59-.52 0-1.04.2-1.43.59L10.3 9.45l-7.72 7.72c-.78.78-.78 2.05 0 2.83L4 21.41c.39.39.9.59 1.41.59.51 0 1.02-.2 1.41-.59l7.78-7.78 2.81-2.81c.8-.78.8-2.07 0-2.86zM5.41 20L4 18.59l7.72-7.72 1.47 1.35L5.41 20z\"/>\n",
              "  </svg>\n",
              "      </button>\n",
              "      \n",
              "  <style>\n",
              "    .colab-df-container {\n",
              "      display:flex;\n",
              "      flex-wrap:wrap;\n",
              "      gap: 12px;\n",
              "    }\n",
              "\n",
              "    .colab-df-convert {\n",
              "      background-color: #E8F0FE;\n",
              "      border: none;\n",
              "      border-radius: 50%;\n",
              "      cursor: pointer;\n",
              "      display: none;\n",
              "      fill: #1967D2;\n",
              "      height: 32px;\n",
              "      padding: 0 0 0 0;\n",
              "      width: 32px;\n",
              "    }\n",
              "\n",
              "    .colab-df-convert:hover {\n",
              "      background-color: #E2EBFA;\n",
              "      box-shadow: 0px 1px 2px rgba(60, 64, 67, 0.3), 0px 1px 3px 1px rgba(60, 64, 67, 0.15);\n",
              "      fill: #174EA6;\n",
              "    }\n",
              "\n",
              "    [theme=dark] .colab-df-convert {\n",
              "      background-color: #3B4455;\n",
              "      fill: #D2E3FC;\n",
              "    }\n",
              "\n",
              "    [theme=dark] .colab-df-convert:hover {\n",
              "      background-color: #434B5C;\n",
              "      box-shadow: 0px 1px 3px 1px rgba(0, 0, 0, 0.15);\n",
              "      filter: drop-shadow(0px 1px 2px rgba(0, 0, 0, 0.3));\n",
              "      fill: #FFFFFF;\n",
              "    }\n",
              "  </style>\n",
              "\n",
              "      <script>\n",
              "        const buttonEl =\n",
              "          document.querySelector('#df-ef6df2be-a502-40ca-80c5-57568ff50f7b button.colab-df-convert');\n",
              "        buttonEl.style.display =\n",
              "          google.colab.kernel.accessAllowed ? 'block' : 'none';\n",
              "\n",
              "        async function convertToInteractive(key) {\n",
              "          const element = document.querySelector('#df-ef6df2be-a502-40ca-80c5-57568ff50f7b');\n",
              "          const dataTable =\n",
              "            await google.colab.kernel.invokeFunction('convertToInteractive',\n",
              "                                                     [key], {});\n",
              "          if (!dataTable) return;\n",
              "\n",
              "          const docLinkHtml = 'Like what you see? Visit the ' +\n",
              "            '<a target=\"_blank\" href=https://colab.research.google.com/notebooks/data_table.ipynb>data table notebook</a>'\n",
              "            + ' to learn more about interactive tables.';\n",
              "          element.innerHTML = '';\n",
              "          dataTable['output_type'] = 'display_data';\n",
              "          await google.colab.output.renderOutput(dataTable, element);\n",
              "          const docLink = document.createElement('div');\n",
              "          docLink.innerHTML = docLinkHtml;\n",
              "          element.appendChild(docLink);\n",
              "        }\n",
              "      </script>\n",
              "    </div>\n",
              "  </div>\n",
              "  "
            ]
          },
          "metadata": {},
          "execution_count": 28
        }
      ]
    },
    {
      "cell_type": "markdown",
      "source": [
        "Tanto nos dias de semana como nos finais de semana, nos dias chuvosos o consumo médio de cerveja é menor."
      ],
      "metadata": {
        "id": "YUGp8ww20osH"
      }
    },
    {
      "cell_type": "code",
      "source": [
        "x = 'Choveu?'\n",
        "y = 'Consumo de cerveja (litros)'\n",
        "\n",
        "plt.figure(figsize = (10,6))\n",
        "\n",
        "boxplot = sns.boxplot(x=x,y=y,data=df,palette='hls')\n",
        "\n",
        "boxplot.set_title('Consumo de litros de Cerveja em dias que choveu e em dias que não choveu')\n",
        "\n",
        "plt.show()"
      ],
      "metadata": {
        "colab": {
          "base_uri": "https://localhost:8080/",
          "height": 404
        },
        "id": "AoDz45bZ1PFi",
        "outputId": "9a0d391c-c16e-4500-d4d1-81e6d8235eb1"
      },
      "execution_count": 30,
      "outputs": [
        {
          "output_type": "display_data",
          "data": {
            "text/plain": [
              "<Figure size 720x432 with 1 Axes>"
            ],
            "image/png": "[encoded data removed]"
          },
          "metadata": {
            "needs_background": "light"
          }
        }
      ]
    },
    {
      "cell_type": "markdown",
      "source": [
        "Em dias que não choveu, pode-se perceber que o consumo foi maior que nos dias que choveu.\n",
        "\n",
        "Relação linear do consumo de cerveja em dias de semana e finais de semana que está chovendo."
      ],
      "metadata": {
        "id": "5veiJXpN1WkO"
      }
    },
    {
      "cell_type": "code",
      "source": [
        "sns.lmplot(x='Precipitacao (mm)', y='Consumo de cerveja (litros)', hue='Final de Semana',\n",
        "           data=df, aspect=1.5, height=6);\n",
        "\n",
        "plt.xlabel('Precipitação (mm)')\n",
        "plt.ylabel('Consumo de cerveja (litros)')\n",
        "plt.grid(ls='-.', lw=.5);"
      ],
      "metadata": {
        "colab": {
          "base_uri": "https://localhost:8080/",
          "height": 441
        },
        "id": "UymcwjIl0z7y",
        "outputId": "b6cd7598-559b-480e-c30d-b1af5a4effb9"
      },
      "execution_count": 29,
      "outputs": [
        {
          "output_type": "display_data",
          "data": {
            "text/plain": [
              "<Figure size 738.625x432 with 1 Axes>"
            ],
            "image/png": "[encoded data removed]"
          },
          "metadata": {
            "needs_background": "light"
          }
        }
      ]
    },
    {
      "cell_type": "markdown",
      "source": [
        "A relação da precipitação (mm) com o consumo de cerveja é negativa, ou seja, quanto maior a precipitação (mm), menor será o consumo de cerveja. Por meio deste gráfico de dispersão, é possível perceber que nos finais de semana, apesar da relação também ser negativa, o consumo é maior que nos dias de semana."
      ],
      "metadata": {
        "id": "JlQ5qvwD09uC"
      }
    },
    {
      "cell_type": "markdown",
      "source": [
        "# Correlação das Variáveis"
      ],
      "metadata": {
        "id": "fgMGVcsf1tWN"
      }
    },
    {
      "cell_type": "code",
      "source": [
        "df.corr(method = 'pearson')"
      ],
      "metadata": {
        "colab": {
          "base_uri": "https://localhost:8080/",
          "height": 452
        },
        "id": "wLj_5UIb17na",
        "outputId": "83d98b06-662c-4677-b4ed-731b5df0ca01"
      },
      "execution_count": 31,
      "outputs": [
        {
          "output_type": "execute_result",
          "data": {
            "text/plain": [
              "                             Temperatura Media (C)  Temperatura Minima (C)  \\\n",
              "Temperatura Media (C)                     1.000000                0.862752   \n",
              "Temperatura Minima (C)                    0.862752                1.000000   \n",
              "Temperatura Maxima (C)                    0.922513                0.672929   \n",
              "Precipitacao (mm)                         0.024416                0.098625   \n",
              "Final de Semana                          -0.050803               -0.059534   \n",
              "Consumo de cerveja (litros)               0.574615                0.392509   \n",
              "Choveu?                                  -0.012409                0.155332   \n",
              "\n",
              "                             Temperatura Maxima (C)  Precipitacao (mm)  \\\n",
              "Temperatura Media (C)                      0.922513           0.024416   \n",
              "Temperatura Minima (C)                     0.672929           0.098625   \n",
              "Temperatura Maxima (C)                     1.000000          -0.049305   \n",
              "Precipitacao (mm)                         -0.049305           1.000000   \n",
              "Final de Semana                           -0.040258           0.001587   \n",
              "Consumo de cerveja (litros)                0.642672          -0.193784   \n",
              "Choveu?                                   -0.138883           0.510326   \n",
              "\n",
              "                             Final de Semana  Consumo de cerveja (litros)  \\\n",
              "Temperatura Media (C)              -0.050803                     0.574615   \n",
              "Temperatura Minima (C)             -0.059534                     0.392509   \n",
              "Temperatura Maxima (C)             -0.040258                     0.642672   \n",
              "Precipitacao (mm)                   0.001587                    -0.193784   \n",
              "Final de Semana                     1.000000                     0.505981   \n",
              "Consumo de cerveja (litros)         0.505981                     1.000000   \n",
              "Choveu?                             0.013800                    -0.146471   \n",
              "\n",
              "                              Choveu?  \n",
              "Temperatura Media (C)       -0.012409  \n",
              "Temperatura Minima (C)       0.155332  \n",
              "Temperatura Maxima (C)      -0.138883  \n",
              "Precipitacao (mm)            0.510326  \n",
              "Final de Semana              0.013800  \n",
              "Consumo de cerveja (litros) -0.146471  \n",
              "Choveu?                      1.000000  "
            ],
            "text/html": [
              "\n",
              "  <div id=\"df-f4d3e0a8-9d98-43f4-9688-3c210d20956a\">\n",
              "    <div class=\"colab-df-container\">\n",
              "      <div>\n",
              "<style scoped>\n",
              "    .dataframe tbody tr th:only-of-type {\n",
              "        vertical-align: middle;\n",
              "    }\n",
              "\n",
              "    .dataframe tbody tr th {\n",
              "        vertical-align: top;\n",
              "    }\n",
              "\n",
              "    .dataframe thead th {\n",
              "        text-align: right;\n",
              "    }\n",
              "</style>\n",
              "<table border=\"1\" class=\"dataframe\">\n",
              "  <thead>\n",
              "    <tr style=\"text-align: right;\">\n",
              "      <th></th>\n",
              "      <th>Temperatura Media (C)</th>\n",
              "      <th>Temperatura Minima (C)</th>\n",
              "      <th>Temperatura Maxima (C)</th>\n",
              "      <th>Precipitacao (mm)</th>\n",
              "      <th>Final de Semana</th>\n",
              "      <th>Consumo de cerveja (litros)</th>\n",
              "      <th>Choveu?</th>\n",
              "    </tr>\n",
              "  </thead>\n",
              "  <tbody>\n",
              "    <tr>\n",
              "      <th>Temperatura Media (C)</th>\n",
              "      <td>1.000000</td>\n",
              "      <td>0.862752</td>\n",
              "      <td>0.922513</td>\n",
              "      <td>0.024416</td>\n",
              "      <td>-0.050803</td>\n",
              "      <td>0.574615</td>\n",
              "      <td>-0.012409</td>\n",
              "    </tr>\n",
              "    <tr>\n",
              "      <th>Temperatura Minima (C)</th>\n",
              "      <td>0.862752</td>\n",
              "      <td>1.000000</td>\n",
              "      <td>0.672929</td>\n",
              "      <td>0.098625</td>\n",
              "      <td>-0.059534</td>\n",
              "      <td>0.392509</td>\n",
              "      <td>0.155332</td>\n",
              "    </tr>\n",
              "    <tr>\n",
              "      <th>Temperatura Maxima (C)</th>\n",
              "      <td>0.922513</td>\n",
              "      <td>0.672929</td>\n",
              "      <td>1.000000</td>\n",
              "      <td>-0.049305</td>\n",
              "      <td>-0.040258</td>\n",
              "      <td>0.642672</td>\n",
              "      <td>-0.138883</td>\n",
              "    </tr>\n",
              "    <tr>\n",
              "      <th>Precipitacao (mm)</th>\n",
              "      <td>0.024416</td>\n",
              "      <td>0.098625</td>\n",
              "      <td>-0.049305</td>\n",
              "      <td>1.000000</td>\n",
              "      <td>0.001587</td>\n",
              "      <td>-0.193784</td>\n",
              "      <td>0.510326</td>\n",
              "    </tr>\n",
              "    <tr>\n",
              "      <th>Final de Semana</th>\n",
              "      <td>-0.050803</td>\n",
              "      <td>-0.059534</td>\n",
              "      <td>-0.040258</td>\n",
              "      <td>0.001587</td>\n",
              "      <td>1.000000</td>\n",
              "      <td>0.505981</td>\n",
              "      <td>0.013800</td>\n",
              "    </tr>\n",
              "    <tr>\n",
              "      <th>Consumo de cerveja (litros)</th>\n",
              "      <td>0.574615</td>\n",
              "      <td>0.392509</td>\n",
              "      <td>0.642672</td>\n",
              "      <td>-0.193784</td>\n",
              "      <td>0.505981</td>\n",
              "      <td>1.000000</td>\n",
              "      <td>-0.146471</td>\n",
              "    </tr>\n",
              "    <tr>\n",
              "      <th>Choveu?</th>\n",
              "      <td>-0.012409</td>\n",
              "      <td>0.155332</td>\n",
              "      <td>-0.138883</td>\n",
              "      <td>0.510326</td>\n",
              "      <td>0.013800</td>\n",
              "      <td>-0.146471</td>\n",
              "      <td>1.000000</td>\n",
              "    </tr>\n",
              "  </tbody>\n",
              "</table>\n",
              "</div>\n",
              "      <button class=\"colab-df-convert\" onclick=\"convertToInteractive('df-f4d3e0a8-9d98-43f4-9688-3c210d20956a')\"\n",
              "              title=\"Convert this dataframe to an interactive table.\"\n",
              "              style=\"display:none;\">\n",
              "        \n",
              "  <svg xmlns=\"http://www.w3.org/2000/svg\" height=\"24px\"viewBox=\"0 0 24 24\"\n",
              "       width=\"24px\">\n",
              "    <path d=\"M0 0h24v24H0V0z\" fill=\"none\"/>\n",
              "    <path d=\"M18.56 5.44l.94 2.06.94-2.06 2.06-.94-2.06-.94-.94-2.06-.94 2.06-2.06.94zm-11 1L8.5 8.5l.94-2.06 2.06-.94-2.06-.94L8.5 2.5l-.94 2.06-2.06.94zm10 10l.94 2.06.94-2.06 2.06-.94-2.06-.94-.94-2.06-.94 2.06-2.06.94z\"/><path d=\"M17.41 7.96l-1.37-1.37c-.4-.4-.92-.59-1.43-.59-.52 0-1.04.2-1.43.59L10.3 9.45l-7.72 7.72c-.78.78-.78 2.05 0 2.83L4 21.41c.39.39.9.59 1.41.59.51 0 1.02-.2 1.41-.59l7.78-7.78 2.81-2.81c.8-.78.8-2.07 0-2.86zM5.41 20L4 18.59l7.72-7.72 1.47 1.35L5.41 20z\"/>\n",
              "  </svg>\n",
              "      </button>\n",
              "      \n",
              "  <style>\n",
              "    .colab-df-container {\n",
              "      display:flex;\n",
              "      flex-wrap:wrap;\n",
              "      gap: 12px;\n",
              "    }\n",
              "\n",
              "    .colab-df-convert {\n",
              "      background-color: #E8F0FE;\n",
              "      border: none;\n",
              "      border-radius: 50%;\n",
              "      cursor: pointer;\n",
              "      display: none;\n",
              "      fill: #1967D2;\n",
              "      height: 32px;\n",
              "      padding: 0 0 0 0;\n",
              "      width: 32px;\n",
              "    }\n",
              "\n",
              "    .colab-df-convert:hover {\n",
              "      background-color: #E2EBFA;\n",
              "      box-shadow: 0px 1px 2px rgba(60, 64, 67, 0.3), 0px 1px 3px 1px rgba(60, 64, 67, 0.15);\n",
              "      fill: #174EA6;\n",
              "    }\n",
              "\n",
              "    [theme=dark] .colab-df-convert {\n",
              "      background-color: #3B4455;\n",
              "      fill: #D2E3FC;\n",
              "    }\n",
              "\n",
              "    [theme=dark] .colab-df-convert:hover {\n",
              "      background-color: #434B5C;\n",
              "      box-shadow: 0px 1px 3px 1px rgba(0, 0, 0, 0.15);\n",
              "      filter: drop-shadow(0px 1px 2px rgba(0, 0, 0, 0.3));\n",
              "      fill: #FFFFFF;\n",
              "    }\n",
              "  </style>\n",
              "\n",
              "      <script>\n",
              "        const buttonEl =\n",
              "          document.querySelector('#df-f4d3e0a8-9d98-43f4-9688-3c210d20956a button.colab-df-convert');\n",
              "        buttonEl.style.display =\n",
              "          google.colab.kernel.accessAllowed ? 'block' : 'none';\n",
              "\n",
              "        async function convertToInteractive(key) {\n",
              "          const element = document.querySelector('#df-f4d3e0a8-9d98-43f4-9688-3c210d20956a');\n",
              "          const dataTable =\n",
              "            await google.colab.kernel.invokeFunction('convertToInteractive',\n",
              "                                                     [key], {});\n",
              "          if (!dataTable) return;\n",
              "\n",
              "          const docLinkHtml = 'Like what you see? Visit the ' +\n",
              "            '<a target=\"_blank\" href=https://colab.research.google.com/notebooks/data_table.ipynb>data table notebook</a>'\n",
              "            + ' to learn more about interactive tables.';\n",
              "          element.innerHTML = '';\n",
              "          dataTable['output_type'] = 'display_data';\n",
              "          await google.colab.output.renderOutput(dataTable, element);\n",
              "          const docLink = document.createElement('div');\n",
              "          docLink.innerHTML = docLinkHtml;\n",
              "          element.appendChild(docLink);\n",
              "        }\n",
              "      </script>\n",
              "    </div>\n",
              "  </div>\n",
              "  "
            ]
          },
          "metadata": {},
          "execution_count": 31
        }
      ]
    },
    {
      "cell_type": "markdown",
      "source": [
        "Por meio dessa tabela de correlação é possível perceber que a variável a qual tem a correlação mais forte com o Consumo de cerveja (litros) é a Temperatura Máxima (C). Mas pode-se perceber também que as variáveis de temperatura têm uma correlação alta entre elas, fator que pode afetar no modelo, pois recomenda-se que as variáveis não tenham forte correlação entre elas, somente com a variável dependente (y)."
      ],
      "metadata": {
        "id": "5FnuDHo614lt"
      }
    },
    {
      "cell_type": "markdown",
      "source": [
        "## Consumo de Cerveja X Temperatura Média"
      ],
      "metadata": {
        "id": "R0s-cEOA27wt"
      }
    },
    {
      "cell_type": "markdown",
      "source": [
        "Verificando a relação de consumo de cerveja com a temperatura está média por meio de um gráfico de dispersão:"
      ],
      "metadata": {
        "id": "t3qOLFZK3LP1"
      }
    },
    {
      "cell_type": "code",
      "source": [
        "sns.lmplot(x = \"Temperatura Media (C)\", y = \"Consumo de cerveja (litros)\", data = df)\n",
        "plt.title(\"Gráfico de dispersão da relação do Consumo de Cerveja e Temperaturas Médias\")\n",
        "plt.show()"
      ],
      "metadata": {
        "colab": {
          "base_uri": "https://localhost:8080/",
          "height": 385
        },
        "id": "2kql5zHY2YWG",
        "outputId": "afeeae2d-9a4c-4cec-ab14-6e3c053b5498"
      },
      "execution_count": 32,
      "outputs": [
        {
          "output_type": "display_data",
          "data": {
            "text/plain": [
              "<Figure size 360x360 with 1 Axes>"
            ],
            "image/png": "[encoded data removed]"
          },
          "metadata": {
            "needs_background": "light"
          }
        }
      ]
    },
    {
      "cell_type": "markdown",
      "source": [
        "Conforme verificado pelo coeficiente de correlação, a relação entre o consumo de cerveja e a temperatura média é positiva, ou seja, conforme a temperatura média aumenta, o consumo de cerveja também aumenta. O coeficiente foi de 0.57, podendo ser considerada uma correlação moderada."
      ],
      "metadata": {
        "id": "sZGv23Og2lZ6"
      }
    },
    {
      "cell_type": "markdown",
      "source": [
        "## Consumo de Cerveja X Temperaturas Máximas"
      ],
      "metadata": {
        "id": "c1yKuGu_3S0t"
      }
    },
    {
      "cell_type": "code",
      "source": [
        "sns.lmplot(x = \"Temperatura Maxima (C)\", y = \"Consumo de cerveja (litros)\", data = df)\n",
        "plt.title(\"Gráfico de dispersão da relação do Consumo de Cerveja e Temperaturas Máximas\")\n",
        "plt.show()"
      ],
      "metadata": {
        "colab": {
          "base_uri": "https://localhost:8080/",
          "height": 385
        },
        "id": "fAY_P8j03bV0",
        "outputId": "f96058fb-7d4c-4403-a1ac-627abd7cbeb5"
      },
      "execution_count": 33,
      "outputs": [
        {
          "output_type": "display_data",
          "data": {
            "text/plain": [
              "<Figure size 360x360 with 1 Axes>"
            ],
            "image/png": "[encoded data removed]"
          },
          "metadata": {
            "needs_background": "light"
          }
        }
      ]
    },
    {
      "cell_type": "markdown",
      "source": [
        "Aqui a relação também é positiva, conforme a temperatura máxima aumenta, o consumo de cerveja também aumenta. Além disso, o coeficiente de correlação foi de 0.64, podendo ser considerada uma correlação moderada entre as variáveis."
      ],
      "metadata": {
        "id": "mDEiJ8qy3fPd"
      }
    },
    {
      "cell_type": "markdown",
      "source": [
        "## Consumo de Cerveja X Temperaturas Mínimas"
      ],
      "metadata": {
        "id": "hlJOe6gB3jhT"
      }
    },
    {
      "cell_type": "code",
      "source": [
        "sns.lmplot(x = \"Temperatura Minima (C)\", y = \"Consumo de cerveja (litros)\", data = df)\n",
        "plt.title(\"Gráfico de dispersão da relação do Consumo de Cerveja e Temperaturas Mínimas\")\n",
        "plt.show()"
      ],
      "metadata": {
        "colab": {
          "base_uri": "https://localhost:8080/",
          "height": 385
        },
        "id": "NIrVl7eP3uLD",
        "outputId": "a66dee57-aee1-4451-f7ca-88f5f041aabf"
      },
      "execution_count": 34,
      "outputs": [
        {
          "output_type": "display_data",
          "data": {
            "text/plain": [
              "<Figure size 360x360 with 1 Axes>"
            ],
            "image/png": "[encoded data removed]"
          },
          "metadata": {
            "needs_background": "light"
          }
        }
      ]
    },
    {
      "cell_type": "markdown",
      "source": [
        "Apesar da relação entre as duas variáveis ser positiva, pode-se perceber que os dados estão bastante dispersos. O coeficiente de correlação dessas duas variáveis foi de 0.39, ou seja, apesar de ser uma relação positiva, trata-se de uma correlação baixa entre as variáveis."
      ],
      "metadata": {
        "id": "JC2mnBz03snP"
      }
    },
    {
      "cell_type": "markdown",
      "source": [
        "# Aplicando o Modelo de Regressão Linear Múltipla"
      ],
      "metadata": {
        "id": "fhNvwwSQ3zef"
      }
    },
    {
      "cell_type": "markdown",
      "source": [
        "## Modelo 1"
      ],
      "metadata": {
        "id": "4YJQBmSg9WtI"
      }
    },
    {
      "cell_type": "code",
      "source": [
        "# x do modelo\n",
        "\n",
        "x = df.drop('Consumo de cerveja (litros)',axis=1)\n",
        "\n",
        "# y do modelo\n",
        "\n",
        "y = df['Consumo de cerveja (litros)']"
      ],
      "metadata": {
        "id": "ZWxq6oMt4IDb"
      },
      "execution_count": 36,
      "outputs": []
    },
    {
      "cell_type": "code",
      "source": [
        "#Dividindo o conjuntos de dados em base de treino e de teste. 75% será para treino e 25% para teste:\n",
        "\n",
        "x_train, x_test, y_train, y_test = train_test_split (x,y,test_size=0.25,random_state=42)"
      ],
      "metadata": {
        "id": "nxHsy8Tr4SNv"
      },
      "execution_count": 37,
      "outputs": []
    },
    {
      "cell_type": "code",
      "source": [
        "#Verificando os tamanhos dos conjuntos de dados de treino e teste\n",
        "\n",
        "print(x_train.shape, y_train.shape)\n",
        "\n",
        "print(x_test.shape, y_test.shape)"
      ],
      "metadata": {
        "colab": {
          "base_uri": "https://localhost:8080/",
          "height": 0
        },
        "id": "MS5f95Ki4Wu2",
        "outputId": "2722b571-2377-4521-bb1c-b5ee519c0390"
      },
      "execution_count": 38,
      "outputs": [
        {
          "output_type": "stream",
          "name": "stdout",
          "text": [
            "(273, 6) (273,)\n",
            "(92, 6) (92,)\n"
          ]
        }
      ]
    },
    {
      "cell_type": "code",
      "source": [
        "#Treinando o Modelo de Regressão Linear Múltipla:\n",
        "\n",
        "lr = LinearRegression()\n",
        "lr.fit(x_train,y_train)\n",
        "lr.coef_"
      ],
      "metadata": {
        "colab": {
          "base_uri": "https://localhost:8080/",
          "height": 0
        },
        "id": "3Boq8XC34bQS",
        "outputId": "8ce779a8-f678-46d6-b84a-8b4ecf2aa2d2"
      },
      "execution_count": 39,
      "outputs": [
        {
          "output_type": "execute_result",
          "data": {
            "text/plain": [
              "array([ 0.18927666, -0.12450782,  0.58663292, -0.05800596,  5.16444987,\n",
              "        0.37681088])"
            ]
          },
          "metadata": {},
          "execution_count": 39
        }
      ]
    },
    {
      "cell_type": "markdown",
      "source": [
        "Verificando os pesos das variáveis no modelo:"
      ],
      "metadata": {
        "id": "vMuQKQ0g5NbE"
      }
    },
    {
      "cell_type": "code",
      "source": [
        "plt.figure(figsize=(15,9))\n",
        "sns.barplot(x = x_train.columns,y = lr.coef_)\n",
        "plt.show()"
      ],
      "metadata": {
        "colab": {
          "base_uri": "https://localhost:8080/",
          "height": 536
        },
        "id": "DYrixx9G5AhB",
        "outputId": "e1f44354-0c43-4e0a-a40d-ec203fd36d3d"
      },
      "execution_count": 40,
      "outputs": [
        {
          "output_type": "display_data",
          "data": {
            "text/plain": [
              "<Figure size 1080x648 with 1 Axes>"
            ],
            "image/png": "[encoded data removed]"
          },
          "metadata": {
            "needs_background": "light"
          }
        }
      ]
    },
    {
      "cell_type": "markdown",
      "source": [
        "Pode-se perceber que a variável que tem o maior peso sobre a variável resposta é Final de Semana, ou seja, a variação entre dia de semana e final de semana influencia muito o consumo de cerveja. Além disso, as variáveis Temperatura Mínima (C) e Precipitação (mm) têm um peso negativo sobre a variável y."
      ],
      "metadata": {
        "id": "VWzruQ_-5JT9"
      }
    },
    {
      "cell_type": "code",
      "source": [
        "#Verificando a Média dos Erros ao Quadrado\n",
        "\n",
        "y_pred = lr.predict(x_test)\n",
        "\n",
        "mean_squared_error(y_test,y_pred)"
      ],
      "metadata": {
        "colab": {
          "base_uri": "https://localhost:8080/",
          "height": 0
        },
        "id": "MzM2tSr85LNJ",
        "outputId": "0b5a108a-61cf-4402-c3b4-3abefa1de271"
      },
      "execution_count": 41,
      "outputs": [
        {
          "output_type": "execute_result",
          "data": {
            "text/plain": [
              "5.7536903080703015"
            ]
          },
          "metadata": {},
          "execution_count": 41
        }
      ]
    },
    {
      "cell_type": "code",
      "source": [
        "#Raiz quadrada aplicada à Média dos Erros ao Quadrado, para trazer a métrica para a mesma magnitude do eixo y.\n",
        "\n",
        "np.sqrt(mean_squared_error(y_test,y_pred))"
      ],
      "metadata": {
        "colab": {
          "base_uri": "https://localhost:8080/",
          "height": 0
        },
        "id": "a1OSJHu05zMR",
        "outputId": "05fa0a9e-60e7-4e41-f026-fb8d5da8a984"
      },
      "execution_count": 42,
      "outputs": [
        {
          "output_type": "execute_result",
          "data": {
            "text/plain": [
              "2.3986851206588793"
            ]
          },
          "metadata": {},
          "execution_count": 42
        }
      ]
    },
    {
      "cell_type": "markdown",
      "source": [
        "Tendo em vista que a média do consumo de cerveja é de 25.40 litros, pode-se considerar que o erro é aceitável. O modelo está errando 2.39 litros para cima e para baixo."
      ],
      "metadata": {
        "id": "LKb-TSpP59GL"
      }
    },
    {
      "cell_type": "code",
      "source": [
        "# Verificando o coeficiente de determinação (R²) do modelo:\n",
        "\n",
        "lr.score(x_test,y_test)"
      ],
      "metadata": {
        "colab": {
          "base_uri": "https://localhost:8080/",
          "height": 0
        },
        "id": "-iMTgwx06AKk",
        "outputId": "76546da4-bbda-4d76-f224-a55212af099e"
      },
      "execution_count": 43,
      "outputs": [
        {
          "output_type": "execute_result",
          "data": {
            "text/plain": [
              "0.7446236565419468"
            ]
          },
          "metadata": {},
          "execution_count": 43
        }
      ]
    },
    {
      "cell_type": "markdown",
      "source": [
        "Por meio do coeficiente de determinação, pode-se dizer que aproximadamente 74% do modelo explica o consumo de cerveja."
      ],
      "metadata": {
        "id": "xRrxtI426LER"
      }
    },
    {
      "cell_type": "code",
      "source": [
        "#Verificando o modelo no conjunto de dados de treino\n",
        "\n",
        "y_pred_train = lr.predict(x_train)\n",
        "print(mean_squared_error(y_train,y_pred_train))\n",
        "print(np.sqrt(mean_squared_error(y_train,y_pred_train)))\n",
        "print(lr.score(x_train,y_train))"
      ],
      "metadata": {
        "colab": {
          "base_uri": "https://localhost:8080/",
          "height": 0
        },
        "id": "-AnEsybL8ZVk",
        "outputId": "872c5453-cd9f-4d1c-c630-27d618f798d0"
      },
      "execution_count": 44,
      "outputs": [
        {
          "output_type": "stream",
          "name": "stdout",
          "text": [
            "5.233514969664927\n",
            "2.2876876905873598\n",
            "0.7085589493630273\n"
          ]
        }
      ]
    },
    {
      "cell_type": "markdown",
      "source": [
        "Analisando o conjunto de dados de treino, pode-se perceber que o modelo explica 70% da variação do consumo de cerveja, o R² foi menor que no conjunto de dados de teste."
      ],
      "metadata": {
        "id": "s1Iyd3Tw6UV_"
      }
    },
    {
      "cell_type": "code",
      "source": [
        "#Plotando os erros do modelo\n",
        "\n",
        "def graficos(y, pred):\n",
        "    \n",
        "    plt.figure(figsize=(12, 6))\n",
        "\n",
        "    plt.plot(y,y)\n",
        "    plt.scatter(pred,y, c='r', marker='o')\n",
        "    plt.legend(['Real','Previsão'])\n",
        "    plt.grid(ls='-.', lw=0.2, c='k');\n",
        "\n",
        "graficos(y_test, y_pred)"
      ],
      "metadata": {
        "colab": {
          "base_uri": "https://localhost:8080/",
          "height": 374
        },
        "id": "oETwp8pk86Yz",
        "outputId": "66f2a6bb-de07-4712-8cbc-e12a5a9bba3c"
      },
      "execution_count": 45,
      "outputs": [
        {
          "output_type": "display_data",
          "data": {
            "text/plain": [
              "<Figure size 864x432 with 1 Axes>"
            ],
            "image/png": "[encoded data removed]"
          },
          "metadata": {
            "needs_background": "light"
          }
        }
      ]
    },
    {
      "cell_type": "markdown",
      "source": [
        "## Modelo 2"
      ],
      "metadata": {
        "id": "5p_h2Hcp9HfU"
      }
    },
    {
      "cell_type": "markdown",
      "source": [
        "Tendo em vista que a variável Temperatura Mínima (C) tem uma correlação alta com Temperatura Média (C), e que Precipitação (mm) tem uma correlação alta com a variável que verifica se choveu, decidiu-se por aplicar outro modelo neste dataset, desta vez excluindo as variáveis Temperatura Mínima (C), Temperatura Média (C) e Choveu?."
      ],
      "metadata": {
        "id": "dldVbc5P9Gj1"
      }
    },
    {
      "cell_type": "code",
      "source": [
        "#Definindo o x do modelo\n",
        "\n",
        "x = df.drop(['Consumo de cerveja (litros)', 'Temperatura Media (C)', 'Temperatura Minima (C)','Choveu?'], axis=1)"
      ],
      "metadata": {
        "id": "Cjzumr3E9hh2"
      },
      "execution_count": 46,
      "outputs": []
    },
    {
      "cell_type": "code",
      "source": [
        "#Definindo o y do modelo\n",
        "\n",
        "y = df['Consumo de cerveja (litros)']"
      ],
      "metadata": {
        "id": "tRBkhexy9mHo"
      },
      "execution_count": 47,
      "outputs": []
    },
    {
      "cell_type": "code",
      "source": [
        "#Dividindo o dataset em treino e teste\n",
        "\n",
        "x_train, x_test, y_train, y_test = train_test_split (x,y,test_size=0.25,random_state=42)"
      ],
      "metadata": {
        "id": "BW_w9N919tBh"
      },
      "execution_count": 48,
      "outputs": []
    },
    {
      "cell_type": "code",
      "source": [
        "#Aplicando o Modelo de Regressão Linear Múltipla\n",
        "\n",
        "lr = LinearRegression()\n",
        "lr.fit(x_train,y_train)\n",
        "lr.coef_"
      ],
      "metadata": {
        "colab": {
          "base_uri": "https://localhost:8080/",
          "height": 0
        },
        "id": "5eygigkH94Um",
        "outputId": "595834e2-3f76-4ff7-add5-c7271bb6db00"
      },
      "execution_count": 49,
      "outputs": [
        {
          "output_type": "execute_result",
          "data": {
            "text/plain": [
              "array([ 0.65295463, -0.05081594,  5.18612642])"
            ]
          },
          "metadata": {},
          "execution_count": 49
        }
      ]
    },
    {
      "cell_type": "code",
      "source": [
        "#Verificando a Média dos Erros ao Quadrado\n",
        "\n",
        "y_pred = lr.predict(x_test)\n",
        "\n",
        "mean_squared_error(y_test,y_pred)"
      ],
      "metadata": {
        "colab": {
          "base_uri": "https://localhost:8080/",
          "height": 0
        },
        "id": "GlDQggI4-Cof",
        "outputId": "f6c08030-1440-440f-9d6c-88d2d59c63cd"
      },
      "execution_count": 50,
      "outputs": [
        {
          "output_type": "execute_result",
          "data": {
            "text/plain": [
              "5.652562093305644"
            ]
          },
          "metadata": {},
          "execution_count": 50
        }
      ]
    },
    {
      "cell_type": "code",
      "source": [
        "#Aplicando a raiz quadrada na Média dos Erros ao Quadrado\n",
        "\n",
        "np.sqrt(mean_squared_error(y_test,y_pred))"
      ],
      "metadata": {
        "colab": {
          "base_uri": "https://localhost:8080/",
          "height": 0
        },
        "id": "nxxDTE1H-LYp",
        "outputId": "f7322b7a-637b-44e8-fce6-927a0e4870ae"
      },
      "execution_count": 51,
      "outputs": [
        {
          "output_type": "execute_result",
          "data": {
            "text/plain": [
              "2.3775117440941576"
            ]
          },
          "metadata": {},
          "execution_count": 51
        }
      ]
    },
    {
      "cell_type": "markdown",
      "source": [
        "A diferença entre os dois modelos foi muito baixa, mesmo excluindo as variáveis que têm alta colinearidade."
      ],
      "metadata": {
        "id": "ShA6lSJ6-R2H"
      }
    },
    {
      "cell_type": "code",
      "source": [
        "#Verificando o coeficiente de determinação do modelo"
      ],
      "metadata": {
        "id": "ldEnbqXK-XSn"
      },
      "execution_count": null,
      "outputs": []
    },
    {
      "cell_type": "code",
      "source": [
        "lr.score(x_test,y_test)"
      ],
      "metadata": {
        "colab": {
          "base_uri": "https://localhost:8080/",
          "height": 0
        },
        "id": "SIh-M0Gl-ZKP",
        "outputId": "6732e15c-3959-4197-b7c2-f326458604c4"
      },
      "execution_count": 52,
      "outputs": [
        {
          "output_type": "execute_result",
          "data": {
            "text/plain": [
              "0.749112211247579"
            ]
          },
          "metadata": {},
          "execution_count": 52
        }
      ]
    },
    {
      "cell_type": "markdown",
      "source": [
        "Assim como o primeiro modelo, este explica, aproximadamente, 74% do consumo de cerveja."
      ],
      "metadata": {
        "id": "8RVHre12-f8h"
      }
    },
    {
      "cell_type": "code",
      "source": [
        "#Avaliação no treino\n",
        "\n",
        "y_pred_train = lr.predict(x_train)\n",
        "print(mean_squared_error(y_train,y_pred_train))\n",
        "print(np.sqrt(mean_squared_error(y_train,y_pred_train)))\n",
        "print(lr.score(x_train,y_train))"
      ],
      "metadata": {
        "colab": {
          "base_uri": "https://localhost:8080/",
          "height": 0
        },
        "id": "rGf2j_6W-h_f",
        "outputId": "dca5bcff-f480-4abe-c7ee-ad9446a7fe59"
      },
      "execution_count": 53,
      "outputs": [
        {
          "output_type": "stream",
          "name": "stdout",
          "text": [
            "5.2697243466481245\n",
            "2.295588017621656\n",
            "0.7065425418563973\n"
          ]
        }
      ]
    },
    {
      "cell_type": "markdown",
      "source": [
        "# **CONCLUSÕES**"
      ],
      "metadata": {
        "id": "Leqd9YsA-pP6"
      }
    },
    {
      "cell_type": "markdown",
      "source": [
        "Analisando o dataset, foi possível perceber que o \n",
        "\n",
        "*   Analisando o dataset, foi possível perceber que o consumo médio de cerveja é maior nos finais de semana.\n",
        "\n",
        "*   Além disso, em dias que chovem o consumo médio de cerveja foi menor, tanto nos dias de semana quanto nos finais de semana. Precipitação (mm) tem uma relação linear negativa com a variável target, ou seja, quanto maior a precipitação, menor será o consumo de cerveja.\n",
        "\n",
        "* Além disso, em dias que chovem o consumo médio de cerveja foi menor, tanto nos dias de semana quanto nos finais de semana. Precipitação (mm) tem uma relação linear negativa com a variável target, ou seja, quanto maior a precipitação, menor será o consumo de cerveja.\n",
        "\n",
        "* Ainda, por meio da tabela gerada das correlações entre as variáveis explicativas e a variável resposta, foi possível perceber que a correlação mais forte com a variável y – Consumo de Cerveja – foi a variável Temperatura Máxima. Porém, percebeu-se também que as variáveis de temperatura tinham uma correlação forte entre elas, e é importante mencionar que a colinearidade (alta correlação entre as variáveis explicativas) não é interessante para um modelo de regressão linear, pois ele pode ficar enviesado.\n",
        "\n",
        "* Ao aplicar o modelo de regressão linear múltipla, foi possível perceber que a variável que possuía maior peso dentro do modelo era a variável Final de Semana.\n",
        "\n",
        "* Decidimos treinar o modelo duas vezes: na primeira considerando todas as variáveis explicativas e na segunda, desconsiderando as variáveis explicativas que possuíam alta colinearidade. Nos dois modelos, o erro foi muito próximo, de aproximadamente 2,39 litros para cima e para baixo. Vale mencionar que, em razão da média do consumo de cerveja ser de 25,4 litros, um erro de 2,39 é considerado baixo.\n",
        "\n",
        "* Por fim, é importante mencionar que nos dois modelos o coeficiente de determinação – coeficiente que informa o quanto que x está explicando a variação de y – foi de 74%, ou seja, os modelos explicam 74% da variação do consumo de cerveja."
      ],
      "metadata": {
        "id": "d-DWk3di-u8P"
      }
    }
  ]
}